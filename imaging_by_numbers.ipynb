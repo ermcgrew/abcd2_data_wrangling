{
 "cells": [
  {
   "cell_type": "code",
   "execution_count": 1,
   "id": "ec31f183",
   "metadata": {},
   "outputs": [
    {
     "name": "stdout",
     "output_type": "stream",
     "text": [
      "<class 'pandas.core.frame.DataFrame'>\n",
      "RangeIndex: 388 entries, 0 to 387\n",
      "Columns: 138 entries, INDD to Amyloid_Consensus_Comments\n",
      "dtypes: float64(128), object(10)\n",
      "memory usage: 418.4+ KB\n"
     ]
    }
   ],
   "source": [
    "import pandas as pd\n",
    "dfamy=pd.read_csv('allamyloid_20230109_compSUVR_AmyConsensus3.csv')\n",
    "dfamy.info()"
   ]
  },
  {
   "cell_type": "code",
   "execution_count": 2,
   "id": "f4b1fd3d",
   "metadata": {},
   "outputs": [],
   "source": [
    "dfamysmall=dfamy[['INDD','AMYLOIDDATE','Amyloid_consensus']]"
   ]
  },
  {
   "cell_type": "code",
   "execution_count": 3,
   "id": "0a8028c0",
   "metadata": {},
   "outputs": [
    {
     "data": {
      "text/plain": [
       "Negative        229\n",
       "Positive        156\n",
       "Inconclusive      3\n",
       "Name: Amyloid_consensus, dtype: int64"
      ]
     },
     "execution_count": 3,
     "metadata": {},
     "output_type": "execute_result"
    }
   ],
   "source": [
    "dfamysmall['Amyloid_consensus'].value_counts()"
   ]
  },
  {
   "cell_type": "code",
   "execution_count": 4,
   "id": "ad8a8196",
   "metadata": {},
   "outputs": [
    {
     "name": "stdout",
     "output_type": "stream",
     "text": [
      "<class 'pandas.core.frame.DataFrame'>\n",
      "Int64Index: 229 entries, 0 to 387\n",
      "Data columns (total 3 columns):\n",
      " #   Column             Non-Null Count  Dtype  \n",
      "---  ------             --------------  -----  \n",
      " 0   INDD               229 non-null    object \n",
      " 1   AMYLOIDDATE        229 non-null    float64\n",
      " 2   Amyloid_consensus  229 non-null    object \n",
      "dtypes: float64(1), object(2)\n",
      "memory usage: 7.2+ KB\n"
     ]
    }
   ],
   "source": [
    "dfamyneg=dfamysmall.loc[dfamysmall['Amyloid_consensus']=='Negative',:]\n",
    "dfamyneg.info()"
   ]
  },
  {
   "cell_type": "code",
   "execution_count": null,
   "id": "fd51bca1",
   "metadata": {},
   "outputs": [],
   "source": [
    "#which indd of dfamyneg are abcd2 participants?"
   ]
  },
  {
   "cell_type": "code",
   "execution_count": 5,
   "id": "81120342",
   "metadata": {},
   "outputs": [],
   "source": [
    "dfamyneg.to_csv('amyneg.csv',index=False,header=True)"
   ]
  },
  {
   "cell_type": "code",
   "execution_count": null,
   "id": "550a3041",
   "metadata": {},
   "outputs": [],
   "source": []
  }
 ],
 "metadata": {
  "kernelspec": {
   "display_name": "Python [conda env:PythonData] *",
   "language": "python",
   "name": "conda-env-PythonData-py"
  },
  "language_info": {
   "codemirror_mode": {
    "name": "ipython",
    "version": 3
   },
   "file_extension": ".py",
   "mimetype": "text/x-python",
   "name": "python",
   "nbconvert_exporter": "python",
   "pygments_lexer": "ipython3",
   "version": "3.8.11"
  }
 },
 "nbformat": 4,
 "nbformat_minor": 5
}
